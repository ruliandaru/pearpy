{
 "cells": [
  {
   "cell_type": "code",
   "execution_count": 5,
   "metadata": {},
   "outputs": [],
   "source": [
    "import rasterio\r\n",
    "import shapely\r\n",
    "from shapely.geometry import shape, mapping\r\n",
    "from shapely.ops import unary_union\r\n",
    "from rasterio import features\r\n",
    "import fiona\r\n",
    "from fiona import crs\r\n",
    "import itertools\r\n",
    "from collections import OrderedDict\r\n",
    "from typing import Union, List, Tuple\r\n",
    "import whitebox\r\n",
    "\r\n",
    "from geosardine.raster import Raster\r\n",
    "\r\n",
    "wbt = whitebox.WhiteboxTools()\r\n",
    "shapely.speedups.disable()"
   ]
  },
  {
   "cell_type": "code",
   "execution_count": null,
   "metadata": {},
   "outputs": [],
   "source": [
    "wbt.find_main_stem()"
   ]
  },
  {
   "cell_type": "code",
   "execution_count": 3,
   "metadata": {},
   "outputs": [],
   "source": [
    "with fiona.open(\"D:/576f726b/0Req/20200728_laharz_automate_design/main_stem/tes_stem.shp\") as feat:\r\n",
    "    stems= feat[0]"
   ]
  },
  {
   "cell_type": "code",
   "execution_count": 6,
   "metadata": {},
   "outputs": [],
   "source": [
    "earlier_dsm = Raster.from_rasterfile(\"D:\\\\Documents\\\\00Data\\\\BALI - AGUNG\\\\T1_19oct2017_clahe_Li360\\\\201710 19_T1_CLAHE.tif\")\r\n",
    "later_dsm = Raster.from_rasterfile(\"D:\\\\Documents\\\\00Data\\\\BALI - AGUNG\\\\T5_16July2019_clahe\\\\20190716_T5_CLAHE.tif\")"
   ]
  },
  {
   "cell_type": "code",
   "execution_count": null,
   "metadata": {},
   "outputs": [],
   "source": [
    "link_class = Raster.from_rasterfile(\"D:\\\\576f726b\\\\0Req\\\\20200728_laharz_automate_design\\\\main_stem\")"
   ]
  },
  {
   "cell_type": "code",
   "execution_count": 7,
   "metadata": {},
   "outputs": [],
   "source": [
    "dsm_diff = later_dsm - earlier_dsm"
   ]
  },
  {
   "cell_type": "code",
   "execution_count": 16,
   "metadata": {},
   "outputs": [],
   "source": [
    "main_stem = shapely.geometry.LineString(stems[\"geometry\"][\"coordinates\"])\r\n",
    "point_in_main_stem = [\r\n",
    "    main_stem.interpolate(d) for d in range(int(main_stem.length))\r\n",
    "    ]"
   ]
  },
  {
   "cell_type": "code",
   "execution_count": 19,
   "metadata": {},
   "outputs": [
    {
     "data": {
      "text/plain": "335146.63219417783"
     },
     "execution_count": 19,
     "metadata": {},
     "output_type": "execute_result"
    }
   ],
   "source": [
    "point_in_main_stem[0].x"
   ]
  },
  {
   "cell_type": "code",
   "execution_count": 6,
   "metadata": {},
   "outputs": [],
   "source": [
    "from geosardine.raster import polygonize"
   ]
  },
  {
   "cell_type": "code",
   "execution_count": 43,
   "metadata": {},
   "outputs": [],
   "source": [
    "feats = [\r\n",
    "    {'properties': {'raster_val': value}, 'geometry': shape} for shape, value in features.shapes(image,mask=image!=1, transform=transform)\r\n",
    "    ]"
   ]
  },
  {
   "cell_type": "code",
   "execution_count": 44,
   "metadata": {},
   "outputs": [],
   "source": [
    "union_features = []\r\n",
    "for k, group in itertools.groupby(feats, key=lambda x:x[\"properties\"][\"raster_val\"]):\r\n",
    "    properties, geom = zip(*[(feature['properties'],shape(feature['geometry'])) for feature in group])\r\n",
    "    union_features.append({'geometry': mapping(unary_union(geom)), 'properties': properties[0]})"
   ]
  },
  {
   "cell_type": "code",
   "execution_count": 45,
   "metadata": {},
   "outputs": [],
   "source": [
    "with fiona.open(\r\n",
    "    \"D:/temp/tes_save.shp\", \r\n",
    "    \"w\", \r\n",
    "    driver=\"ESRI Shapefile\",\r\n",
    "    crs=crs.from_epsg(32750),\r\n",
    "    schema= {\r\n",
    "        \"geometry\": \"Polygon\",\r\n",
    "        \"properties\": OrderedDict([(\"raster_val\", \"int\")])\r\n",
    "    }) as out:\r\n",
    "    out.writerecords(union_features)\r\n",
    "    "
   ]
  },
  {
   "cell_type": "code",
   "execution_count": 3,
   "metadata": {},
   "outputs": [],
   "source": [
    "py_xxsecta: List[Tuple[str, int, int]] = [\r\n",
    "    (\"Osceola\", 4000000000, 150000),\r\n",
    "    (\"Electron\", 250000000, 37000),\r\n",
    "    (\"DeadManFlat\", 180000000, 14000),\r\n",
    "    (\"National\", 150000000, 10000),\r\n",
    "    (\"Zigzag\", 73000000, 12000),\r\n",
    "    (\"KautzCreek\", 40000000, 5000),\r\n",
    "    (\"Azufrado\", 40000000, 2300),\r\n",
    "    (\"MolinosNereidas\", 30000000, 1100),\r\n",
    "    (\"Guali\", 16000000, 2000),\r\n",
    "    (\"Tahoma\", 15000000, 19000),\r\n",
    "    (\"PineCreek\", 14000000, 2100),\r\n",
    "    (\"SFToutle\", 12000000, 1500),\r\n",
    "    (\"Mabinit\", 1200000, 200),\r\n",
    "    (\"TahomaCreek\", 600000, 190),\r\n",
    "    (\"BlueLake\", 380000, 320),\r\n",
    "    (\"ButteCanyon\", 380000, 300),\r\n",
    "    (\"MabinitTyphoonSaling\", 300000, 200),\r\n",
    "    (\"PolallieCreek\", 80000, 300),\r\n",
    "]\r\n",
    "\r\n",
    "py_xxplanb: List[Tuple[str, int, int]] = [\r\n",
    "    (\"Osceola\", 4000000000, 550000000),\r\n",
    "    (\"Tetelzingo\", 1800000000, 140000000),\r\n",
    "    (\"Electron\", 250000000, 60000000),\r\n",
    "    (\"RoundPass\", 200000000, 50000000),\r\n",
    "    (\"DeadManFlat\", 180000000, 90000000),\r\n",
    "    (\"National\", 150000000, 78000000),\r\n",
    "    (\"Paradise\", 100000000, 34000000),\r\n",
    "    (\"Zigzag\", 73000000, 55000000),\r\n",
    "    (\"TroutLake\", 66000000, 27000000),\r\n",
    "    (\"MiddleNooksack\", 50000000, 20000000),\r\n",
    "    (\"KautzCreek\", 40000000, 4500000),\r\n",
    "    (\"Azufrado\", 40000000, 34000000),\r\n",
    "    (\"MolinosNereidas\", 30000000, 6000000),\r\n",
    "    (\"Guali\", 16000000, 11000000),\r\n",
    "    (\"SaltCreek\", 15000000, 16000000),\r\n",
    "    (\"Tahoma\", 15000000, 6000000),\r\n",
    "    (\"PineCreek\", 14000000, 18000000),\r\n",
    "    (\"SFToutle\", 12000000, 30000000),\r\n",
    "    (\"WhitneyCreek\", 4000000, 8000000),\r\n",
    "    (\"BolumCreek\", 1500000, 3000000),\r\n",
    "    (\"Mabinit\", 1200000, 1800000),\r\n",
    "    (\"TahomaCreek\", 600000, 1000000),\r\n",
    "    (\"BlueLake\", 380000, 750000),\r\n",
    "    (\"ButteCanyon\", 380000, 500000),\r\n",
    "    (\"MabinitTyphoonSaling\", 300000, 200000),\r\n",
    "    (\"Middle\", 140000, 400000),\r\n",
    "    (\"PolallieCreek\", 80000, 470000),\r\n",
    "]\r\n",
    "\r\n",
    "py_xxttabl: List[Tuple[int, float, float, float, float, float, float, float]] = [\r\n",
    "    (1, 1.0, 1.962611, 3.077684, 6.313752, 12.7062, 25.4517, 63.65674),\r\n",
    "    (2, 0.816497, 1.386207, 1.885618, 2.919986, 4.302653, 6.205347, 9.924843),\r\n",
    "    (3, 0.764892, 1.249778, 1.637744, 2.353363, 3.182446, 4.176535, 5.840909),\r\n",
    "    (4, 0.740697, 1.189567, 1.533206, 2.131847, 2.776445, 3.495406, 4.604095),\r\n",
    "    (5, 0.726687, 1.155767, 1.475884, 2.015048, 2.570582, 3.163381, 4.032143),\r\n",
    "    (6, 0.717558, 1.134157, 1.439756, 1.94318, 2.446912, 2.968687, 3.707428),\r\n",
    "    (7, 0.711142, 1.119159, 1.414924, 1.894579, 2.364624, 2.841244, 3.499483),\r\n",
    "    (8, 0.706387, 1.108145, 1.396815, 1.859548, 2.306004, 2.751524, 3.355387),\r\n",
    "    (9, 0.702722, 1.099716, 1.383029, 1.833113, 2.262157, 2.685011, 3.249836),\r\n",
    "    (10, 0.699812, 1.093058, 1.372184, 1.812461, 2.228139, 2.633767, 3.169273),\r\n",
    "    (11, 0.697445, 1.087666, 1.36343, 1.795885, 2.200985, 2.593093, 3.105807),\r\n",
    "    (12, 0.695483, 1.083211, 1.356217, 1.782288, 2.178813, 2.560033, 3.05454),\r\n",
    "    (13, 0.693829, 1.079469, 1.350171, 1.770933, 2.160369, 2.532638, 3.012276),\r\n",
    "    (14, 0.692417, 1.07628, 1.34503, 1.76131, 2.144787, 2.509569, 2.976843),\r\n",
    "    (15, 0.691197, 1.073531, 1.340606, 1.75305, 2.13145, 2.48988, 2.946713),\r\n",
    "    (16, 0.690132, 1.071137, 1.336757, 1.745884, 2.119905, 2.472878, 2.920782),\r\n",
    "    (17, 0.689195, 1.069033, 1.333379, 1.739607, 2.109816, 2.458051, 2.898231),\r\n",
    "    (18, 0.688364, 1.06717, 1.330391, 1.734064, 2.100922, 2.445006, 2.87844),\r\n",
    "    (19, 0.687621, 1.065507, 1.327728, 1.729133, 2.093024, 2.43344, 2.860935),\r\n",
    "    (20, 0.686954, 1.064016, 1.325341, 1.724718, 2.085963, 2.423117, 2.84534),\r\n",
    "    (21, 0.686352, 1.06267, 1.323188, 1.720743, 2.079614, 2.413845, 2.83136),\r\n",
    "    (22, 0.685805, 1.061449, 1.321237, 1.717144, 2.073873, 2.405473, 2.818756),\r\n",
    "    (23, 0.685306, 1.060337, 1.31946, 1.713872, 2.068658, 2.397875, 2.807336),\r\n",
    "    (24, 0.68485, 1.059319, 1.317836, 1.710882, 2.063899, 2.390949, 2.796939),\r\n",
    "    (25, 0.68443, 1.058384, 1.316345, 1.708141, 2.059539, 2.38461, 2.787436),\r\n",
    "    (26, 0.684043, 1.057523, 1.314972, 1.705618, 2.055529, 2.378786, 2.778715),\r\n",
    "    (27, 0.683685, 1.056727, 1.313703, 1.703288, 2.05183, 2.373417, 2.770683),\r\n",
    "    (28, 0.683353, 1.055989, 1.312527, 1.701131, 2.048407, 2.368452, 2.763262),\r\n",
    "    (29, 0.683044, 1.055302, 1.311434, 1.699127, 2.04523, 2.363846, 2.756386),\r\n",
    "    (30, 0.682756, 1.054662, 1.310415, 1.697261, 2.042272, 2.359562, 2.749996),\r\n",
    "    (31, 0.682486, 1.054064, 1.309464, 1.695519, 2.039513, 2.355568, 2.744042),\r\n",
    "    (32, 0.682234, 1.053504, 1.308573, 1.693889, 2.036933, 2.351835, 2.738481),\r\n",
    "    (33, 0.681997, 1.052979, 1.307737, 1.69236, 2.034515, 2.348338, 2.733277),\r\n",
    "    (34, 0.681774, 1.052485, 1.306952, 1.690924, 2.032244, 2.345056, 2.728394),\r\n",
    "    (35, 0.681564, 1.052019, 1.306212, 1.689572, 2.030108, 2.341969, 2.723806),\r\n",
    "    (36, 0.681366, 1.05158, 1.305514, 1.688298, 2.028094, 2.339061, 2.719485),\r\n",
    "    (37, 0.681178, 1.051165, 1.304854, 1.687094, 2.026192, 2.336316, 2.715409),\r\n",
    "    (38, 0.681001, 1.050772, 1.30423, 1.685954, 2.024394, 2.333721, 2.711558),\r\n",
    "    (39, 0.680833, 1.050399, 1.303639, 1.684875, 2.022691, 2.331264, 2.707913),\r\n",
    "    (40, 0.680673, 1.050046, 1.303077, 1.683851, 2.021075, 2.328935, 2.704459),\r\n",
    "    (41, 0.680521, 1.04971, 1.302543, 1.682878, 2.019541, 2.326723, 2.701181),\r\n",
    "    (42, 0.680376, 1.04939, 1.302035, 1.681952, 2.018082, 2.32462, 2.698066),\r\n",
    "    (43, 0.680238, 1.049085, 1.301552, 1.681071, 2.016692, 2.322618, 2.695102),\r\n",
    "    (44, 0.680107, 1.048794, 1.30109, 1.68023, 2.015368, 2.320711, 2.692278),\r\n",
    "]"
   ]
  },
  {
   "cell_type": "code",
   "execution_count": null,
   "metadata": {},
   "outputs": [],
   "source": [
    "np.around"
   ]
  },
  {
   "cell_type": "code",
   "execution_count": 45,
   "metadata": {},
   "outputs": [],
   "source": [
    "import numba as nb\r\n",
    "import numpy as np\r\n",
    "\r\n",
    "@nb.njit()\r\n",
    "def calc_area_nb(\r\n",
    "    volume_list: Union[List[int], List[float]], coefficient: float\r\n",
    ") -> List[float]:\r\n",
    "    return [round(volume ** 0.666666666666666 * coefficient) for volume in volume_list]\r\n",
    "\r\n",
    "def calc_area(\r\n",
    "    volume_list: Union[List[int], List[float]], coefficient: float\r\n",
    ") -> List[float]:\r\n",
    "    return [round(volume ** 0.666666666666666 * coefficient) for volume in volume_list]\r\n",
    "\r\n",
    "@nb.njit()\r\n",
    "def calc_area2_nb(\r\n",
    "    volume_list: Union[List[int], List[float]], coefficient: float\r\n",
    ") -> List[float]:\r\n",
    "    return np.array(volume_list) ** 0.666666666666666 * coefficient\r\n",
    "\r\n",
    "def calc_area2(\r\n",
    "    volume_list: Union[List[int], List[float]], coefficient: float\r\n",
    ") -> List[float]:\r\n",
    "    return np.around(np.array(volume_list) ** 0.666666666666666 * coefficient)\r\n"
   ]
  },
  {
   "cell_type": "code",
   "execution_count": 38,
   "metadata": {},
   "outputs": [],
   "source": [
    "def calc_confidence_limit(\r\n",
    "    is_cross_section: bool,\r\n",
    "    user_volume: Union[int, float],\r\n",
    "    confidence_limit: float,\r\n",
    ") -> Tuple[float, float]:\r\n",
    "\r\n",
    "    an_intercept = 2.301\r\n",
    "    dec_intercept = 200.0\r\n",
    "    fills = py_xxplanb\r\n",
    "    if is_cross_section:\r\n",
    "        an_intercept = -1.301\r\n",
    "        dec_intercept = 0.05\r\n",
    "        fills = py_xxsecta\r\n",
    "\r\n",
    "    residual_sum = 0.0\r\n",
    "    total_log_volume = 0.0\r\n",
    "\r\n",
    "    for (_, volume, area) in fills:\r\n",
    "        log_vol = log10(volume)\r\n",
    "        total_log_volume += log_vol\r\n",
    "\r\n",
    "        log_area_y = log10(area)\r\n",
    "        log_area_pred = (log_vol * 0.666666666667) + an_intercept\r\n",
    "        diff = (log_area_y - log_area_pred) * (log_area_y - log_area_pred)\r\n",
    "        residual_sum += diff\r\n",
    "\r\n",
    "    se_model = sqrt(residual_sum / (len(fills) - 1))\r\n",
    "    mean_log_volume = total_log_volume / len(fills)\r\n",
    "\r\n",
    "    mean_diff_total = 0.0\r\n",
    "    one_over_n = 1.0 / len(fills)\r\n",
    "\r\n",
    "    for (_, volume, area) in fills:\r\n",
    "        log_vol = log10(volume)\r\n",
    "        diff_log_mean = log_vol - mean_log_volume\r\n",
    "        diff_squared = diff_log_mean ** 2\r\n",
    "\r\n",
    "        mean_diff_total += diff_squared\r\n",
    "\r\n",
    "    crossttabll = py_xxttabl[len(fills) - 2]\r\n",
    "    cross_section_data = crossttabll[confidence2index[str(confidence_limit)]]\r\n",
    "\r\n",
    "    area_up: float = 0.0\r\n",
    "    area_dn: float = 0.0\r\n",
    "    if cross_section_data is not None:\r\n",
    "        log_user_volume = log10(user_volume)\r\n",
    "        user_regress_area = round((user_volume ** 0.66666666666667) * dec_intercept)\r\n",
    "\r\n",
    "        diff_mean = log_user_volume - mean_log_volume\r\n",
    "        diff_mean_sq = diff_mean ** 2\r\n",
    "\r\n",
    "        sem = se_model * sqrt(one_over_n + (diff_mean_sq / mean_diff_total))\r\n",
    "        sep = sqrt((se_model ** 2) + (sem ** 2))\r\n",
    "\r\n",
    "        area_up = 10 ** ((cross_section_data * sep) + log10(user_regress_area))\r\n",
    "        area_dn = 10 ** (log10(user_regress_area) - (cross_section_data * sep))\r\n",
    "\r\n",
    "    return area_up, area_dn\r\n",
    "\r\n",
    "\r\n",
    "from math import log10, sqrt\r\n",
    "\r\n",
    "confidence2index = {\r\n",
    "    \"50.0\": 1,\r\n",
    "    \"70.0\": 2,\r\n",
    "    \"80.0\": 3,\r\n",
    "    \"90.0\": 4,\r\n",
    "    \"95.0\": 5,\r\n",
    "    \"97.5\": 6,\r\n",
    "    \"99.0\": 7,\r\n",
    "}\r\n",
    "\r\n",
    "@nb.njit()\r\n",
    "def calc_confidence_limit_nb(\r\n",
    "    is_cross_section: bool,\r\n",
    "    user_volume: Union[int, float],\r\n",
    "    confidence_limit: float,\r\n",
    ") -> Tuple[float, float]:\r\n",
    "\r\n",
    "    an_intercept = 2.301\r\n",
    "    dec_intercept = 200.0\r\n",
    "    fills = py_xxplanb\r\n",
    "    if is_cross_section:\r\n",
    "        an_intercept = -1.301\r\n",
    "        dec_intercept = 0.05\r\n",
    "        fills = py_xxsecta\r\n",
    "\r\n",
    "    residual_sum = 0.0\r\n",
    "    total_log_volume = 0.0\r\n",
    "\r\n",
    "    for (_, volume, area) in fills:\r\n",
    "        log_vol = log10(volume)\r\n",
    "        total_log_volume += log_vol\r\n",
    "\r\n",
    "        log_area_y = log10(area)\r\n",
    "        log_area_pred = (log_vol * 0.666666666667) + an_intercept\r\n",
    "        diff = (log_area_y - log_area_pred) * (log_area_y - log_area_pred)\r\n",
    "        residual_sum += diff\r\n",
    "\r\n",
    "    se_model = sqrt(residual_sum / (len(fills) - 1))\r\n",
    "    mean_log_volume = total_log_volume / len(fills)\r\n",
    "\r\n",
    "    mean_diff_total = 0.0\r\n",
    "    one_over_n = 1.0 / len(fills)\r\n",
    "\r\n",
    "    for (_, volume, area) in fills:\r\n",
    "        log_vol = log10(volume)\r\n",
    "        diff_log_mean = log_vol - mean_log_volume\r\n",
    "        diff_squared = diff_log_mean ** 2\r\n",
    "\r\n",
    "        mean_diff_total += diff_squared\r\n",
    "\r\n",
    "    crossttabll = py_xxttabl[len(fills) - 2]\r\n",
    "    cross_section_data = crossttabll[confidence2index[str(confidence_limit)]]\r\n",
    "\r\n",
    "    area_up: float = 0.0\r\n",
    "    area_dn: float = 0.0\r\n",
    "    if cross_section_data is not None:\r\n",
    "        log_user_volume = log10(user_volume)\r\n",
    "        user_regress_area = round((user_volume ** 0.66666666666667) * dec_intercept)\r\n",
    "\r\n",
    "        diff_mean = log_user_volume - mean_log_volume\r\n",
    "        diff_mean_sq = diff_mean ** 2\r\n",
    "\r\n",
    "        sem = se_model * sqrt(one_over_n + (diff_mean_sq / mean_diff_total))\r\n",
    "        sep = sqrt((se_model ** 2) + (sem ** 2))\r\n",
    "\r\n",
    "        area_up = 10 ** ((cross_section_data * sep) + log10(user_regress_area))\r\n",
    "        area_dn = 10 ** (log10(user_regress_area) - (cross_section_data * sep))\r\n",
    "\r\n",
    "    return area_up, area_dn"
   ]
  },
  {
   "cell_type": "code",
   "execution_count": 42,
   "metadata": {},
   "outputs": [
    {
     "name": "stdout",
     "output_type": "stream",
     "text": [
      "10 µs ± 592 ns per loop (mean ± std. dev. of 7 runs, 100000 loops each)\n"
     ]
    }
   ],
   "source": [
    "%timeit calc_area2_nb([100,20,30],200)"
   ]
  },
  {
   "cell_type": "code",
   "execution_count": 46,
   "metadata": {},
   "outputs": [
    {
     "name": "stdout",
     "output_type": "stream",
     "text": [
      "7.56 µs ± 99.9 ns per loop (mean ± std. dev. of 7 runs, 100000 loops each)\n"
     ]
    }
   ],
   "source": [
    "%timeit calc_area2([100,20,30],200)"
   ]
  },
  {
   "cell_type": "code",
   "execution_count": 37,
   "metadata": {},
   "outputs": [
    {
     "name": "stdout",
     "output_type": "stream",
     "text": [
      "21.8 µs ± 1.48 µs per loop (mean ± std. dev. of 7 runs, 100000 loops each)\n"
     ]
    }
   ],
   "source": [
    "%timeit calc_confidence_limit(False, 10,97.5)"
   ]
  },
  {
   "cell_type": "code",
   "execution_count": null,
   "metadata": {},
   "outputs": [],
   "source": []
  }
 ],
 "metadata": {
  "kernelspec": {
   "display_name": "Python 3.8.6  ('.venv': venv)",
   "metadata": {
    "interpreter": {
     "hash": "2109e789bfd3a6f5de4a381256ab65159e2bb7b699b227921b380e18da86d8f7"
    }
   },
   "name": "python3"
  },
  "language_info": {
   "codemirror_mode": {
    "name": "ipython",
    "version": 3
   },
   "file_extension": ".py",
   "mimetype": "text/x-python",
   "name": "python",
   "nbconvert_exporter": "python",
   "pygments_lexer": "ipython3",
   "version": "3.8.6"
  },
  "orig_nbformat": 2
 },
 "nbformat": 4,
 "nbformat_minor": 2
}